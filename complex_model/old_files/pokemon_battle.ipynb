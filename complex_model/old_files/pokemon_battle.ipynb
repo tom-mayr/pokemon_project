{
 "cells": [
  {
   "cell_type": "code",
   "execution_count": 1,
   "metadata": {},
   "outputs": [],
   "source": [
    "import numpy as np"
   ]
  },
  {
   "cell_type": "code",
   "execution_count": null,
   "metadata": {},
   "outputs": [],
   "source": [
    "from pokemon import pokedex # importing a dictionary of all info for every pokemon\n",
    "from pokemon_class import Pokemon\n",
    "from mdp_pokemon_battle import PokemonBattleMDP"
   ]
  },
  {
   "cell_type": "code",
   "execution_count": 1589,
   "metadata": {},
   "outputs": [],
   "source": [
    "# All types\n",
    "types = ['Fire', 'Water', 'Grass', 'Psychic']\n",
    "\n",
    "mdp = {type:PokemonBattleMDP(opponent_type=type) for type in types}\n",
    "\n",
    "# Q-learning algorithm\n",
    "# Q = np.zeros((101, 201, 2, 4))  # Q-table with dimensions (AI HP, Opponent HP, Opponent Status, Action)\n",
    "# Initialize Q-tables for each type\n",
    "Q = {'Fire': np.zeros((101, 151, 2, 4)), 'Water': np.zeros((101, 151, 2, 4)), 'Grass': np.zeros((101, 151, 2, 4)), 'Psychic': np.zeros((101, 151, 2, 4))}\n",
    "\n",
    "learning_rate = 0.1\n",
    "epsilon = 0.01\n",
    "# gamma = mdp.discount_factor\n",
    "gamma = 0.9\n",
    "\n",
    "num_episodes = 1000\n",
    "\n",
    "for type in types:\n",
    "    for episode in range(num_episodes):\n",
    "        state = mdp[type].reset()\n",
    "        done = False\n",
    "        first_move = True\n",
    "        while not done:\n",
    "            ai_current_hp, opponent_current_hp, opponent_status = state\n",
    "            if first_move == True:\n",
    "                action = np.random.randint(4)\n",
    "                first_move = False\n",
    "            else:\n",
    "                if np.random.uniform(0, 1) < epsilon:\n",
    "                    action = np.random.randint(4)  # Explore: choose random action\n",
    "                else:\n",
    "                    action = np.argmax(Q[type][ai_current_hp, opponent_current_hp, opponent_status])\n",
    "\n",
    "            next_state, reward, done = mdp[type].step(action)\n",
    "\n",
    "            next_ai_current_hp, next_opponent_current_hp, next_opponent_status = next_state\n",
    "            Q[type][ai_current_hp, opponent_current_hp, opponent_status, action] += learning_rate * \\\n",
    "                (reward + gamma * np.max(Q[type][next_ai_current_hp, next_opponent_current_hp, next_opponent_status]) - Q[type][ai_current_hp, opponent_current_hp, opponent_status, action])\n",
    "            state = next_state"
   ]
  },
  {
   "cell_type": "code",
   "execution_count": 1590,
   "metadata": {},
   "outputs": [
    {
     "name": "stdout",
     "output_type": "stream",
     "text": [
      "Number of wins: 919\n",
      "Number of losses: 81\n"
     ]
    }
   ],
   "source": [
    "# Type\n",
    "type = 'Psychic'\n",
    "\n",
    "# Initialize variables to track wins, losses, and ties\n",
    "wins = []\n",
    "losses = [] \n",
    "\n",
    "# Initialize lists to store data for each episode\n",
    "episode_data = []\n",
    "\n",
    "# Define the number of episodes to run\n",
    "num_episodes = 1000\n",
    "\n",
    "# Run multiple episodes\n",
    "for episode in range(num_episodes):\n",
    "    state = mdp[type].reset()\n",
    "    episode_data.append([])  # Initialize list to store data for this episode\n",
    "    done = False\n",
    "    while not done:\n",
    "        ai_hp, opponent_current_hp, opponent_status = state\n",
    "        if np.random.uniform(0, 1) < epsilon:\n",
    "            action = np.random.randint(4)  # Explore: choose random action\n",
    "        else:\n",
    "            action = np.argmax(Q[type][ai_hp, opponent_current_hp, opponent_status])\n",
    "\n",
    "        # Store data for this step in the episode\n",
    "        episode_data[-1].append((ai_hp, opponent_current_hp, opponent_status, action))\n",
    "\n",
    "        next_state, reward, done = mdp[type].step(action)\n",
    "        state = next_state\n",
    "\n",
    "    # Update win/loss count based on the final reward\n",
    "    if reward == 1:\n",
    "        wins.append(1)\n",
    "        losses.append(0)\n",
    "    elif reward == -1:\n",
    "        losses.append(1)\n",
    "        wins.append(0)\n",
    "\n",
    "# Print out the distribution of wins, losses, and ties\n",
    "print(\"Number of wins:\", sum(wins))\n",
    "print(\"Number of losses:\", sum(losses))\n",
    "\n",
    "# Print out the data for each episode\n",
    "# for i, episode in enumerate(episode_data):\n",
    "#     print(\"Episode\", i+1, \":\")\n",
    "#     for turn, step_data in enumerate(episode):\n",
    "#         ai_hp, opponent_current_hp, opponent_status, action = step_data\n",
    "#         print(\"  Turn {}: ai HP: {}, Opponent HP: {}, Opponent Status: {}, Action: {}\".format(\n",
    "#             turn + 1, ai_hp, opponent_current_hp, opponent_status, action))\n"
   ]
  },
  {
   "cell_type": "code",
   "execution_count": 1481,
   "metadata": {},
   "outputs": [],
   "source": [
    "i = 0\n",
    "j = 0"
   ]
  },
  {
   "cell_type": "code",
   "execution_count": 1758,
   "metadata": {},
   "outputs": [
    {
     "name": "stdout",
     "output_type": "stream",
     "text": [
      "Episode: 26\n",
      "Turn: 4\n",
      "\n"
     ]
    },
    {
     "data": {
      "text/html": [
       "<img src=\"front_venusaur.gif\" style=\"width:10%;\">"
      ],
      "text/plain": [
       "<IPython.core.display.HTML object>"
      ]
     },
     "metadata": {},
     "output_type": "display_data"
    },
    {
     "name": "stdout",
     "output_type": "stream",
     "text": [
      "Venusaur:\n",
      "\u001b[93m[####################------------------------------]\u001b[0m\n",
      "40 / 100\n"
     ]
    },
    {
     "data": {
      "text/html": [
       "<img src=\"front_alakazam.gif\" style=\"width:10%;\">"
      ],
      "text/plain": [
       "<IPython.core.display.HTML object>"
      ]
     },
     "metadata": {},
     "output_type": "display_data"
    },
    {
     "name": "stdout",
     "output_type": "stream",
     "text": [
      "Alakazam:\n",
      "\u001b[92m[##############################--------------------]\u001b[0m\n",
      "90 / 150\n",
      "\n",
      "Venusaur uses Bodyslam!\n",
      "\n",
      "Alakazam uses Psychic!\n"
     ]
    }
   ],
   "source": [
    "from IPython.display import display, HTML\n",
    "from display_battle import print_turn, print_ai_turn, print_opponent_turn\n",
    "from display_battle import print_opponent_attack, print_ai_attack\n",
    "\n",
    "ai_name = 'Venusaur'\n",
    "\n",
    "if type == 'Fire':\n",
    "    opponent_name = 'Charizard'\n",
    "    opponent_pokemon_gif = 'front_charizard.gif'\n",
    "    opponent_attack = 'Flame Thrower'\n",
    "elif type == 'Water':\n",
    "    opponent_name = 'Blastoise'\n",
    "    opponent_pokemon_gif = 'front_blastoise.gif'\n",
    "    opponent_attack = 'Hydro Pump'\n",
    "elif type == 'Grass':\n",
    "    opponent_name = 'Venusaur'\n",
    "    opponent_pokemon_gif = 'front_venusaur.gif'\n",
    "    opponent_attack = 'Razor Leaf'\n",
    "elif type == 'Psychic':\n",
    "    opponent_name = 'Alakazam'\n",
    "    opponent_pokemon_gif = 'front_alakazam.gif'\n",
    "    opponent_attack = 'Psychic'\n",
    "\n",
    "html_code_template = '''\n",
    "<div>\n",
    "    <img src=\"{agent_pokemon_gif}\" style=\"float:left; width:25%;\">\n",
    "    <img src=\"{opponent_pokemon_gif}\" style=\"float:right; width:25%;\">\n",
    "</div>\n",
    "'''\n",
    "\n",
    "html_code = html_code_template.format(agent_pokemon_gif='back_venusaur.gif', opponent_pokemon_gif=opponent_pokemon_gif)\n",
    "\n",
    "html_ai_gif = '<img src=\"{agent_pokemon_gif}\" style=\"width:10%;\">'.format(agent_pokemon_gif = 'front_venusaur.gif')\n",
    "html_opponent_gif = '<img src=\"{opponent_pokemon_gif}\" style=\"width:10%;\">'.format(opponent_pokemon_gif = opponent_pokemon_gif)\n",
    "\n",
    "#display(HTML(html_code))\n",
    "\n",
    "episode = episode_data[i]\n",
    "turn = episode[j]\n",
    "\n",
    "ai_hp, opponent_current_hp, opponent_status, ai_attack = turn\n",
    "print('Episode:', i+1)\n",
    "print('Turn:', j+1)\n",
    "print()\n",
    "#print_turn(ai_current_hp=ai_hp, opponent_current_hp=opponent_current_hp, ai_attack=ai_attack, opponent_status=opponent_status, opponent_name=opponent_name, opponent_attack=opponent_attack)\n",
    "\n",
    "j += 1\n",
    "if j == len(episode):\n",
    "    if wins[i] == 1:\n",
    "        #print_turn(ai_current_hp=ai_hp, opponent_current_hp=0, ai_attack=ai_attack, opponent_status=opponent_status, opponent_name=opponent_name, opponent_attack=opponent_attack, result=True)\n",
    "        display(HTML(html_ai_gif))\n",
    "        print_ai_turn(ai_max_hp=mdp[type].ai_max_hp, ai_current_hp=ai_hp, ai_attack=ai_attack, result=True)\n",
    "        display(HTML(html_opponent_gif))\n",
    "        print_opponent_turn(opponent_name=opponent_name, opponent_max_hp=mdp[type].opponent_max_hp, opponent_current_hp=0, opponent_status=opponent_status, opponent_attack=opponent_attack, result=True)\n",
    "        print()\n",
    "        print('Venusaur ' + \"\\033[92m\" + 'WINS!' + \"\\033[0m\")\n",
    "    else:\n",
    "        #print_turn(ai_current_hp=0, opponent_current_hp=opponent_current_hp, ai_attack=ai_attack, opponent_status=opponent_status, opponent_name=opponent_name, opponent_attack=opponent_attack, result=True)\n",
    "        display(HTML(html_ai_gif))\n",
    "        print_ai_turn(ai_max_hp=mdp[type].ai_max_hp, ai_current_hp=0, ai_attack=ai_attack, result=True)\n",
    "        display(HTML(html_opponent_gif))\n",
    "        print_opponent_turn(opponent_name=opponent_name, opponent_max_hp=mdp[type].opponent_max_hp, opponent_current_hp=opponent_current_hp, opponent_status=opponent_status, opponent_attack=opponent_attack, result=True)\n",
    "        print()\n",
    "        print('Venusaur ' + \"\\033[91m\" + 'LOSES!' + \"\\033[0m\")\n",
    "    i += 1\n",
    "    j = 0\n",
    "else:\n",
    "    #print_turn(ai_current_hp=ai_hp, opponent_current_hp=opponent_current_hp, ai_attack=ai_attack, opponent_status=opponent_status, opponent_name=opponent_name, opponent_attack=opponent_attack)\n",
    "    display(HTML(html_ai_gif))\n",
    "    print_ai_turn(ai_max_hp=mdp[type].ai_max_hp, ai_current_hp=ai_hp, ai_attack=ai_attack)\n",
    "    display(HTML(html_opponent_gif))\n",
    "    print_opponent_turn(opponent_name=opponent_name, opponent_max_hp=mdp[type].opponent_max_hp, opponent_current_hp=opponent_current_hp, opponent_status=opponent_status, opponent_attack=opponent_attack)\n",
    "    print()\n",
    "    print_ai_attack(ai_attack=ai_attack)\n",
    "    print()\n",
    "    print_opponent_attack(opponent_attack=opponent_attack, opponent_name=opponent_name)"
   ]
  }
 ],
 "metadata": {
  "kernelspec": {
   "display_name": "base",
   "language": "python",
   "name": "python3"
  },
  "language_info": {
   "codemirror_mode": {
    "name": "ipython",
    "version": 3
   },
   "file_extension": ".py",
   "mimetype": "text/x-python",
   "name": "python",
   "nbconvert_exporter": "python",
   "pygments_lexer": "ipython3",
   "version": "3.9.12"
  }
 },
 "nbformat": 4,
 "nbformat_minor": 2
}
