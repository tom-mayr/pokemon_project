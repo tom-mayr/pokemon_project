import numpy as np
from pokemon_class import Pokemon

class PokemonBattleMDP:
    def __init__(self, ai_pokemon_name, opponent_pokemon_name, ai_max_hp=100, opponent_max_hp=150, opponent_type=None):
        self.ai_max_hp = ai_max_hp
        self.opponent_max_hp = opponent_max_hp
        self.opponent_type = opponent_type if opponent_type else np.random.choice(['Fire', 'Water', 'Grass', 'Psychic'])
        self.ai_current_hp = ai_max_hp
        self.opponent_current_hp = opponent_max_hp
        self.opponent_status = 0  # Status effect: 0 for none, 1 for lowered attack chance
        self.opponent_attack_power = {'Fire': 40, 'Water': 10, 'Grass': 10, 'Psychic': 20}  # Opponent's attack power
        self.ai_move_damage = 20  # ai's attack move damage
        self.opponent_move_success_modifier = 0.75  # ai's status move success modifier
        self.ai_grass_move_damage = {'Fire': 10, 'Water': 40, 'Grass': 10, 'Psychic': 20}  # AI's attack move damage based on type
        self.discount_factor = 0.9  # Discount factor for future rewards

        self.ai_pokemon = Pokemon()

    def reset(self):
        self.ai_current_hp = self.ai_max_hp
        self.opponent_current_hp = self.opponent_max_hp
        self.opponent_status = 0
        return self.get_state()

    def get_state(self):
        return (self.ai_current_hp, self.opponent_current_hp, self.opponent_status)

    def take_ai_action(self, action):
        # Action: 0 for attack, 1 for status move
        if action == 0:  # Normal attack move
            self.opponent_current_hp -= self.ai_move_damage
        elif action == 1:  # Status move
            self.opponent_status = 1
        elif action == 2:  # Heal move
            self.ai_current_hp = min((self.ai_current_hp + self.ai_max_hp // 4), self.ai_max_hp)
        elif action == 3:  # Grass attack move
            self.opponent_current_hp -= self.ai_grass_move_damage[self.opponent_type]

    def take_opponent_action(self):
        # Opponent always uses its attack move
        hit = False
        if self.opponent_status == 1:
            hit = np.random.choice([True, False], p=[self.opponent_move_success_modifier, 1-self.opponent_move_success_modifier])
        elif self.opponent_status == 0:
            hit = True
        if hit:
            self.ai_current_hp -= self.opponent_attack_power[self.opponent_type]
        return hit

    def is_terminal(self):
        return self.ai_current_hp <= 0 or self.opponent_current_hp <= 0

    def get_reward(self):
        if self.opponent_current_hp <= 0:  # ai wins
            return 1
        elif self.ai_current_hp <= 0:  # ai loses
            return -1
        else:
            return 0

    def step(self, ai_action):
        self.take_ai_action(ai_action)
        self.take_opponent_action()
        reward = self.get_reward()
        return self.get_state(), reward, self.is_terminal()