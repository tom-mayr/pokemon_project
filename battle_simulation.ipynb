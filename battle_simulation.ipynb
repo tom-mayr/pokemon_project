{
 "cells": [
  {
   "cell_type": "code",
   "execution_count": 1,
   "metadata": {},
   "outputs": [],
   "source": [
    "import numpy as np\n",
    "from mdp_pokemon_battle import PokemonBattleMDP"
   ]
  },
  {
   "cell_type": "code",
   "execution_count": 2,
   "metadata": {},
   "outputs": [],
   "source": [
    "mdp = PokemonBattleMDP('Dragonite', 'Venusaur')\n",
    "\n",
    "# Q-learning algorithm\n",
    "dim_ai_hp = mdp.ai_pokemon.max_hp + 1\n",
    "dim_opponent_hp = mdp.opponent_pokemon.max_hp + 1\n",
    "dim_actions = len(mdp.ai_pokemon.moveset)\n",
    "Q = np.zeros((dim_ai_hp, dim_opponent_hp, dim_actions))  # Q-table with dimensions (AI HP, Opponent HP, Action)\n",
    "\n",
    "learning_rate = 0.1\n",
    "epsilon = 0.01\n",
    "# gamma = mdp.discount_factor\n",
    "gamma = 0.9\n",
    "\n",
    "num_episodes = 100\n",
    "\n",
    "for episode in range(num_episodes):\n",
    "    state = mdp.reset()\n",
    "    done = False\n",
    "    first_move = True\n",
    "    while not done:\n",
    "        ai_current_hp, opponent_current_hp = state\n",
    "        if first_move == True:\n",
    "            action = np.random.randint(dim_actions)\n",
    "            first_move = False\n",
    "        else:\n",
    "            if np.random.uniform(0, 1) < epsilon:\n",
    "                action = np.random.randint(dim_actions)  # Explore: choose random action\n",
    "            else:\n",
    "                action = np.argmax(Q[ai_current_hp, opponent_current_hp])\n",
    "\n",
    "        next_state, reward, done = mdp.step(action)\n",
    "\n",
    "        next_ai_current_hp, next_opponent_current_hp = next_state\n",
    "        Q[ai_current_hp, opponent_current_hp, action] += learning_rate * \\\n",
    "            (reward + gamma * np.max(Q[next_ai_current_hp, next_opponent_current_hp]) - Q[ai_current_hp, opponent_current_hp, action])\n",
    "        state = next_state"
   ]
  },
  {
   "cell_type": "code",
   "execution_count": 3,
   "metadata": {},
   "outputs": [
    {
     "name": "stdout",
     "output_type": "stream",
     "text": [
      "Number of wins: 999\n",
      "Number of losses: 1\n"
     ]
    }
   ],
   "source": [
    "# Initialize variables to track wins, losses, and ties\n",
    "wins = []\n",
    "losses = [] \n",
    "\n",
    "# Initialize lists to store data for each episode\n",
    "episode_data = []\n",
    "\n",
    "# Define the number of episodes to run\n",
    "num_episodes = 1000\n",
    "\n",
    "# Run multiple episodes\n",
    "for episode in range(num_episodes):\n",
    "    state = mdp.reset()\n",
    "    episode_data.append([])  # Initialize list to store data for this episode\n",
    "    done = False\n",
    "    while not done:\n",
    "        ai_hp, opponent_current_hp = state\n",
    "        if np.random.uniform(0, 1) < epsilon:\n",
    "            action = np.random.randint(dim_actions)  # Explore: choose random action\n",
    "        else:\n",
    "            action = np.argmax(Q[ai_hp, opponent_current_hp])\n",
    "\n",
    "        # Store data for this step in the episode\n",
    "        episode_data[-1].append((ai_hp, opponent_current_hp, action))\n",
    "\n",
    "        next_state, reward, done = mdp.step(action)\n",
    "        state = next_state\n",
    "\n",
    "    # Update win/loss count based on the final reward\n",
    "    if reward == 1:\n",
    "        wins.append(1)\n",
    "        losses.append(0)\n",
    "    elif reward == -1:\n",
    "        losses.append(1)\n",
    "        wins.append(0)\n",
    "\n",
    "# Print out the distribution of wins, losses, and ties\n",
    "print(\"Number of wins:\", sum(wins))\n",
    "print(\"Number of losses:\", sum(losses))"
   ]
  },
  {
   "cell_type": "code",
   "execution_count": 4,
   "metadata": {},
   "outputs": [],
   "source": [
    "i = 0\n",
    "j = 0"
   ]
  },
  {
   "cell_type": "code",
   "execution_count": 14,
   "metadata": {},
   "outputs": [
    {
     "name": "stdout",
     "output_type": "stream",
     "text": [
      "Episode: 3\n",
      "Turn: 2\n"
     ]
    },
    {
     "data": {
      "text/html": [
       "<img src=\"images/dragonite-f.gif\" style=\"width:10%;\">"
      ],
      "text/plain": [
       "<IPython.core.display.HTML object>"
      ]
     },
     "metadata": {},
     "output_type": "display_data"
    },
    {
     "name": "stdout",
     "output_type": "stream",
     "text": [
      "Dragonite:\n",
      "\u001b[92m[##############################################----]\u001b[0m\n",
      "93 / 100\n"
     ]
    },
    {
     "data": {
      "text/html": [
       "<img src=\"images/venusaur-f.gif\" style=\"width:10%;\">"
      ],
      "text/plain": [
       "<IPython.core.display.HTML object>"
      ]
     },
     "metadata": {},
     "output_type": "display_data"
    },
    {
     "name": "stdout",
     "output_type": "stream",
     "text": [
      "Venusaur:\n",
      "\u001b[93m[####################------------------------------]\u001b[0m\n",
      "40 / 100\n",
      "\n",
      "Dragonite uses Dragon Rage!\n",
      "\n",
      "Venusaur uses Bodyslam!\n"
     ]
    }
   ],
   "source": [
    "from IPython.display import display, HTML\n",
    "from display_battle import *\n",
    "\n",
    "ai_name = mdp.ai_pokemon.name\n",
    "ai_pokemon_gif = ai_name.lower() + '-f.gif'\n",
    "\n",
    "opponent_name = mdp.opponent_pokemon.name\n",
    "opponent_pokemon_gif = opponent_name.lower() + '-f.gif'\n",
    "\n",
    "\n",
    "html_ai_gif = '<img src=\"images/{agent_pokemon_gif}\" style=\"width:10%;\">'.format(agent_pokemon_gif = ai_pokemon_gif)\n",
    "html_opponent_gif = '<img src=\"images/{opponent_pokemon_gif}\" style=\"width:10%;\">'.format(opponent_pokemon_gif = opponent_pokemon_gif)\n",
    "\n",
    "episode = episode_data[i]\n",
    "if j < len(episode):\n",
    "    turn = episode[j]\n",
    "\n",
    "ai_hp, opponent_current_hp, ai_attack = turn\n",
    "print('Episode:', i+1)\n",
    "if j < len(episode):\n",
    "    print('Turn:', j+1)\n",
    "else:\n",
    "    print('Turn:', j)\n",
    "#print()\n",
    "\n",
    "if j == len(episode):\n",
    "    if wins[i] == 1:\n",
    "        display(HTML(html_ai_gif))\n",
    "        print_ai_turn(mdp.ai_pokemon, ai_current_hp=ai_hp)\n",
    "        display(HTML(html_opponent_gif))\n",
    "        print_opponent_turn(mdp.opponent_pokemon, opponent_current_hp=0)\n",
    "        print()\n",
    "        print(mdp.ai_pokemon.name + \" \\033[92m\" + 'WINS!' + \"\\033[0m\")\n",
    "    else:\n",
    "        display(HTML(html_ai_gif))\n",
    "        print_ai_turn(mdp.ai_pokemon, ai_current_hp=0)\n",
    "        display(HTML(html_opponent_gif))\n",
    "        print_opponent_turn(mdp.opponent_pokemon, opponent_current_hp=opponent_current_hp)\n",
    "        print()\n",
    "        print(mdp.ai_pokemon.name + \" \\033[91m\" + 'LOSES!' + \"\\033[0m\")\n",
    "    i += 1\n",
    "    j = 0\n",
    "else:\n",
    "    display(HTML(html_ai_gif))\n",
    "    print_ai_turn(mdp.ai_pokemon, ai_current_hp=ai_hp)\n",
    "    display(HTML(html_opponent_gif))\n",
    "    print_opponent_turn(mdp.opponent_pokemon, opponent_current_hp=opponent_current_hp)\n",
    "    print()\n",
    "    print_ai_attack(ai_pokemon=mdp.ai_pokemon, ai_attack=ai_attack)\n",
    "    print()\n",
    "    print_opponent_attack(opponent_pokemon=mdp.opponent_pokemon)\n",
    "    j += 1"
   ]
  }
 ],
 "metadata": {
  "kernelspec": {
   "display_name": "base",
   "language": "python",
   "name": "python3"
  },
  "language_info": {
   "codemirror_mode": {
    "name": "ipython",
    "version": 3
   },
   "file_extension": ".py",
   "mimetype": "text/x-python",
   "name": "python",
   "nbconvert_exporter": "python",
   "pygments_lexer": "ipython3",
   "version": "3.9.12"
  }
 },
 "nbformat": 4,
 "nbformat_minor": 2
}
